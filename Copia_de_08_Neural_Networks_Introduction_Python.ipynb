{
  "nbformat": 4,
  "nbformat_minor": 0,
  "metadata": {
    "kernelspec": {
      "name": "python36",
      "display_name": "Python 3.6",
      "language": "python"
    },
    "language_info": {
      "mimetype": "text/x-python",
      "nbconvert_exporter": "python",
      "name": "python",
      "pygments_lexer": "ipython3",
      "version": "3.6.6",
      "file_extension": ".py",
      "codemirror_mode": {
        "version": 3,
        "name": "ipython"
      }
    },
    "colab": {
      "name": "Copia de 08. Neural Networks Introduction - Python.ipynb",
      "provenance": [],
      "toc_visible": true,
      "include_colab_link": true
    }
  },
  "cells": [
    {
      "cell_type": "markdown",
      "metadata": {
        "id": "view-in-github",
        "colab_type": "text"
      },
      "source": [
        "<a href=\"https://colab.research.google.com/github/alanramirez-86/Training-ejercicios-alan/blob/main/Copia_de_08_Neural_Networks_Introduction_Python.ipynb\" target=\"_parent\"><img src=\"https://colab.research.google.com/assets/colab-badge.svg\" alt=\"Open In Colab\"/></a>"
      ]
    },
    {
      "cell_type": "markdown",
      "metadata": {
        "collapsed": true,
        "id": "bgvVWQ5DflUj"
      },
      "source": [
        "Exercise 8 - Introduction to Neural Networks\n",
        "=======\n",
        "\n",
        "Originally hypothesised in the 1940s, neural networks are now one of the main tools used in modern AI. Neural networks can be used for both regression and categorisation applications. Recent advances with storage, processing power, and open-source tools have allowed many successful applications of neural networks in medical diagnosis, filtering explicit content, speech recognition and machine translation.\n",
        "\n",
        "In this exercise we will compare three dog breeds, using their age, weight, and height. We will make a neural network model to classify the breeds of the dogs based on these features.\n",
        "\n",
        "Note: It's extremely common for AI practitioners to use a template such as the one below for making neural networks quickly. After you are done, feel free to play around with the template to get a feel of how you can easily adjust a neural network to your problems using Keras.\n",
        "\n",
        "__Run the code__ in the cell below."
      ]
    },
    {
      "cell_type": "code",
      "metadata": {
        "id": "AdSJ9iUqfrn7",
        "outputId": "bae0487b-65c4-4d6f-8f5c-76b0dc86bf40",
        "colab": {
          "base_uri": "https://localhost:8080/"
        }
      },
      "source": [
        "from google.colab import drive\n",
        "drive.mount('/content/drive')"
      ],
      "execution_count": null,
      "outputs": [
        {
          "output_type": "stream",
          "text": [
            "Mounted at /content/drive\n"
          ],
          "name": "stdout"
        }
      ]
    },
    {
      "cell_type": "code",
      "metadata": {
        "trusted": true,
        "id": "VsFYu4oRflUm",
        "outputId": "db39cace-7739-46f4-8f7a-67e7fe3f89f2",
        "colab": {
          "base_uri": "https://localhost:8080/"
        }
      },
      "source": [
        "# Run this!\n",
        "import warnings\n",
        "warnings.filterwarnings(\"ignore\")\n",
        "import tensorflow as tf\n",
        "import keras\n",
        "print('keras using %s backend'%keras.backend.backend())\n",
        "import pandas as pd\n",
        "import numpy as np\n",
        "import matplotlib.pyplot as graph\n",
        "%matplotlib inline\n",
        "graph.rcParams['figure.figsize'] = (15,5)\n",
        "graph.rcParams[\"font.family\"] = 'DejaVu Sans'\n",
        "graph.rcParams[\"font.size\"] = '12'\n",
        "graph.rcParams['image.cmap'] = 'rainbow'"
      ],
      "execution_count": null,
      "outputs": [
        {
          "output_type": "stream",
          "text": [
            "keras using tensorflow backend\n"
          ],
          "name": "stdout"
        }
      ]
    },
    {
      "cell_type": "markdown",
      "metadata": {
        "id": "GpIIIT2LflUu"
      },
      "source": [
        "Step 1\n",
        "------\n",
        "\n",
        "Let's start by opening up our data and having a look at it.\n",
        "\n",
        "#### In the cell below replace the `<printDataHere>` with `print(dataset.head())` and then __Run the code__ in the cell below."
      ]
    },
    {
      "cell_type": "code",
      "metadata": {
        "trusted": true,
        "id": "15yJubqpflUw",
        "outputId": "dc70918e-787d-410b-f0e6-c940d25536b5",
        "colab": {
          "base_uri": "https://localhost:8080/"
        }
      },
      "source": [
        "# This loads the dataset\n",
        "dataset = pd.read_csv(\"/content/drive/My Drive/data/dog_data.csv\")\n",
        "\n",
        "###\n",
        "# REPLACE <printDataHere> with print(dataset.head()) TO PREVIEW OUR DATASET\n",
        "###\n",
        "print(dataset.head())\n",
        "\n",
        "# This tells us the shape of the data set\n",
        "print(\"Shape of data set:\", dataset.shape)\n",
        "\n",
        "# Defines the feature dataframe\n",
        "features = dataset.drop(['breed'], axis = 1)"
      ],
      "execution_count": null,
      "outputs": [
        {
          "output_type": "stream",
          "text": [
            "    age  weight  height  breed\n",
            "0  9.47    6.20    6.80      1\n",
            "1  7.97    8.63    8.92      0\n",
            "2  9.51    6.40    5.78      1\n",
            "3  8.96    8.82    6.28      2\n",
            "4  8.37    3.89    5.62      1\n",
            "Shape of data set: (200, 4)\n"
          ],
          "name": "stdout"
        }
      ]
    },
    {
      "cell_type": "markdown",
      "metadata": {
        "id": "J85oiW1rflU8"
      },
      "source": [
        "So we've got data from __200 dogs__. The features are their __age__, __weight__, and __height__.\n",
        "\n",
        "Step 2\n",
        "------\n",
        "\n",
        "Our labels are three breeds of dogs, represented as numbers in our dataset, as `0`, `1`, and `2`. \n",
        "\n",
        "For a neural network these numbers are misleading, as they might imply that breed `1` is closer to breed `2` than breed `0` is, in some way. But that is not the case here.\n",
        "\n",
        "To allow the neural network to predict categories properly we represent categories as one-hot vectors. The labels (dog breeds) will go from being represented as `0`, `1`, and `2` to this:\n",
        "\n",
        "| breed 0 | breed 1 | breed 2 |\n",
        "|:------- |:------- |:------- |\n",
        "| `1 0 0` | `0 1 0` | `0 0 1` |\n",
        "\n",
        "So the if the 1 is in the first position, the neural network knows that it's breed 0.\n",
        "\n",
        "If the 1 is in the second position, the neural network knows that it's breed 1, and so on.\n",
        "\n",
        "#### Replace `<addLabels>` with `labels` and __Run the code__."
      ]
    },
    {
      "cell_type": "code",
      "metadata": {
        "trusted": true,
        "id": "G7EbkRGQflU9",
        "outputId": "2d5b1908-5377-4ca2-f3fc-ae5a510e25d2",
        "colab": {
          "base_uri": "https://localhost:8080/"
        }
      },
      "source": [
        "from sklearn.preprocessing import OneHotEncoder\n",
        "\n",
        "# This sets the  labels (numerical)\n",
        "labels = np.array(dataset['breed'])\n",
        "\n",
        "###\n",
        "# REPLACE THE <addLabels> BELOW WITH labels\n",
        "###\n",
        "onehot = OneHotEncoder(sparse = False).fit_transform(np.transpose([labels]))\n",
        "###\n",
        "\n",
        "print(onehot[:5])"
      ],
      "execution_count": null,
      "outputs": [
        {
          "output_type": "stream",
          "text": [
            "[[0. 1. 0.]\n",
            " [1. 0. 0.]\n",
            " [0. 1. 0.]\n",
            " [0. 0. 1.]\n",
            " [0. 1. 0.]]\n"
          ],
          "name": "stdout"
        }
      ]
    },
    {
      "cell_type": "markdown",
      "metadata": {
        "id": "tPbi30bkflVH"
      },
      "source": [
        "There we go!\n",
        "\n",
        "Step 3\n",
        "-------\n",
        "\n",
        "Before we make our model, let's get our test set and training set ready.\n",
        "\n",
        "We've got data on 200 dogs, so we'll use 160 for a training set, and 40 for our test set.\n",
        "\n",
        "#### Run the code below to set up our training at test sets."
      ]
    },
    {
      "cell_type": "code",
      "metadata": {
        "trusted": true,
        "id": "yJy6SNKJflVI"
      },
      "source": [
        "# Run this! This sets up our training and test sets.\n",
        "\n",
        "# This takes the first 160 examples for our training set\n",
        "train_X = features.values[:160]\n",
        "train_Y = onehot[:160]\n",
        "\n",
        "# This takes the last 40 examples of the 200 for our test set\n",
        "test_X = features.values[160:]\n",
        "test_Y = onehot[160:]"
      ],
      "execution_count": null,
      "outputs": []
    },
    {
      "cell_type": "markdown",
      "metadata": {
        "id": "-9on8KoWflVO"
      },
      "source": [
        "## Step 4\n",
        "\n",
        "That's our data ready. Now it's time to make your first neural network model!\n",
        "\n",
        "This is the standard syntax for a model in Keras. You can always play around with adding in extra hidden layers and changing their size and activation functions later.\n",
        "\n",
        "Our **first layer** is our **input layer**, with **3 nodes** because we have three features.\n",
        "\n",
        "Our __second layer__ is our 1st hidden layer, so let's try **4 nodes** for it.\n",
        "\n",
        "Our __third layer__ is our second hidden layer, let's try **2 nodes** for it.\n",
        "\n",
        "Our **final layer** will be the **output layer**, in which we have **3 nodes**, one for each of the dog breeds.\n",
        "\n",
        "### In the cell below replace:\n",
        "#### 1. `<addSequential>` with `Sequential()`\n",
        "#### 2. `<inputNodes>` with `3`\n",
        "#### 3. `<hiddenNotes1>` with `4`\n",
        "#### 4. `<hiddenNotes2>` with `2`\n",
        "#### 5. `<outputNotes>` with `3`\n",
        "\n",
        "#### and then __run the code__."
      ]
    },
    {
      "cell_type": "code",
      "metadata": {
        "trusted": true,
        "id": "O8gLVizLflVP",
        "outputId": "f77faae5-090d-42b4-e8d0-13236fc7dd30",
        "colab": {
          "base_uri": "https://localhost:8080/"
        }
      },
      "source": [
        "# Set a randomisation seed for replicatability.\n",
        "np.random.seed(6)\n",
        "\n",
        "\n",
        "# This creates our base model for us to add to\n",
        "###\n",
        "# REPLACE THE <addSequential> BELOW WITH Sequential()\n",
        "###\n",
        "model = keras.models.Sequential()\n",
        "###\n",
        "\n",
        "###\n",
        "# REPLACE THE <inputNodes>, <hiddenNotes1>, <hiddenNotes2>, <outputNotes> BELOW WITH THE APPROPRIATE NUMBERS OF NODES AS DESCRIBED ABOVE\n",
        "###\n",
        "structure = [3, 4, 2, 3]\n",
        "###\n",
        "\n",
        "# Input layer + hidden layer 1\n",
        "model.add(keras.layers.Dense(units=structure[1], input_dim = structure[0], activation = 'relu'))\n",
        "\n",
        "# Hidden layer 2\n",
        "model.add(keras.layers.Dense(units=structure[2], activation = 'relu'))\n",
        "\n",
        "# Output layer - note that the activation function is softmax\n",
        "# Softmax will predict a category and provide a value for how likely this is the correct prediction.\n",
        "model.add(keras.layers.Dense(units=structure[3], activation = tf.nn.softmax))\n",
        "\n",
        "print(\"Layer structure:\", structure)"
      ],
      "execution_count": null,
      "outputs": [
        {
          "output_type": "stream",
          "text": [
            "Layer structure: [3, 4, 2, 3]\n"
          ],
          "name": "stdout"
        }
      ]
    },
    {
      "cell_type": "markdown",
      "metadata": {
        "id": "Hg2noiMBflVY"
      },
      "source": [
        "Expected output:  \n",
        "`Layer structure: [3, 4, 2, 3]`\n",
        "\n",
        "Alright, that's your first model ready.\n",
        "\n",
        "('tanh' is another common activation function if you want to try it instead of relu, but it doesn't perform very well here)\n",
        "\n",
        "Step 5\n",
        "-------\n",
        "\n",
        "Next up we'll compile it and see how it runs.\n",
        "\n",
        "There's a few parameters you can chose that change how the model trains, and end up changing how the model performs.\n",
        "\n",
        "We will use some standard parameters for now. Feel free to experiment with some different parameters later on.\n",
        "\n",
        "If this doesn't work, check your input the correct size for the input and output layers in step 4 (3 nodes each).\n",
        "\n",
        "### In the cell below replace:\n",
        "#### 1. `<addLoss>` with `'categorical_crossentropy'`\n",
        "#### 2. `<addOptimizer>` with `sgd'`\n",
        "#### 3. `<addMetric>` with `'accuracy'`\n",
        "#### 4. `<addTrainX>` with `train_X`\n",
        "#### 5. `<addTrainY>` with `train_Y`\n",
        "\n",
        "#### and then __run the code__."
      ]
    },
    {
      "cell_type": "code",
      "metadata": {
        "trusted": true,
        "id": "jbNLZaxhflVZ",
        "outputId": "e5432207-235c-4934-9036-23dfea51a90f",
        "colab": {
          "base_uri": "https://localhost:8080/"
        }
      },
      "source": [
        "# Let's compile the model\n",
        "\n",
        "###\n",
        "# REPLACE THE <addLoss> WITH 'categorical_crossentropy', <addOptimizer> WITH 'sgd', AND <addMetric> with 'accuracy' (INCLUDING THE QUOTES)\n",
        "###\n",
        "model.compile(loss = 'categorical_crossentropy', optimizer = 'sgd', metrics = ['accuracy'])\n",
        "###\n",
        "\n",
        "# Time to fit the model\n",
        "print('Starting training')\n",
        "\n",
        "###\n",
        "# REPLACE THE <addTrainX> WITH train_X AND <addTrainY> WITH train_Y\n",
        "###\n",
        "training_stats = model.fit(train_X, train_Y, batch_size = 1, epochs = 24, verbose = 0)\n",
        "###\n",
        "\n",
        "print('Training finished')\n",
        "print('Training Evaluation: loss = %0.3f, accuracy = %0.2f%%'\n",
        "      %(training_stats.history['loss'][-1], 100 * training_stats.history['accuracy'][-1]))"
      ],
      "execution_count": null,
      "outputs": [
        {
          "output_type": "stream",
          "text": [
            "Starting training\n",
            "Training finished\n",
            "Training Evaluation: loss = 0.541, accuracy = 65.00%\n"
          ],
          "name": "stdout"
        }
      ]
    },
    {
      "cell_type": "markdown",
      "metadata": {
        "id": "SIq4mY78flVh"
      },
      "source": [
        "See? Neural networks aren't too hard.\n",
        "\n",
        "`'adam'` is another popular optimizer if you want to try it instead of `'sgd'`\n",
        "\n",
        "#### Lets plot it! Run the cell below."
      ]
    },
    {
      "cell_type": "code",
      "metadata": {
        "trusted": true,
        "id": "CJmT87U7flVj",
        "outputId": "c226fb4b-3994-4c2f-c66d-bd963377df26",
        "colab": {
          "base_uri": "https://localhost:8080/",
          "height": 323
        }
      },
      "source": [
        "# Run this!\n",
        "\n",
        "accuracy, = graph.plot(training_stats.history['accuracy'],label = 'Accuracy')\n",
        "training_loss, = graph.plot(training_stats.history['loss'],label = 'Training Loss')\n",
        "\n",
        "\n",
        "graph.legend(handles = [accuracy,training_loss])\n",
        "loss = np.array(training_stats.history['loss'])\n",
        "xp = np.linspace(0, loss.shape[0], 10 * loss.shape[0])\n",
        "graph.plot(xp, np.full(xp.shape, 1), c = 'k', linestyle = ':', alpha = 0.5)\n",
        "graph.plot(xp, np.full(xp.shape, 0), c = 'k', linestyle = ':', alpha = 0.5)\n",
        "graph.show()"
      ],
      "execution_count": null,
      "outputs": [
        {
          "output_type": "display_data",
          "data": {
            "image/png": "[encoded data removed]",
            "text/plain": [
              "<Figure size 1080x360 with 1 Axes>"
            ]
          },
          "metadata": {
            "tags": [],
            "needs_background": "light"
          }
        }
      ]
    },
    {
      "cell_type": "markdown",
      "metadata": {
        "id": "3HrtHD3HflVp"
      },
      "source": [
        "Step 6\n",
        "------\n",
        "\n",
        "Now that our model is trained and ready, let's see how it performs on our test data!\n",
        "\n",
        "It's important to test a model on data that it has never seen before, to make sure it doesn't overfit. Now let's evaluate it against the test set.\n",
        "\n",
        "### In the cell below replace:\n",
        "#### 1. `<addTestX>` with `test_X`\n",
        "#### 2. `<addTestY>` with `test_Y`\n",
        "#### and then __run the code__."
      ]
    },
    {
      "cell_type": "code",
      "metadata": {
        "trusted": true,
        "id": "DN3OV9l-flVr",
        "outputId": "307c2ea9-cf0b-4345-dada-f4714a6153f9",
        "colab": {
          "base_uri": "https://localhost:8080/"
        }
      },
      "source": [
        "###\n",
        "# REPLACE <addTestX> WITH test_X AND <addTestY> with test_Y\n",
        "###\n",
        "evaluation = model.evaluate(test_X, test_Y, verbose=0)\n",
        "###\n",
        "\n",
        "print('Test Set Evaluation: loss = %0.6f, accuracy = %0.2f' %(evaluation[0], 100*evaluation[1]))"
      ],
      "execution_count": null,
      "outputs": [
        {
          "output_type": "stream",
          "text": [
            "Test Set Evaluation: loss = 0.535630, accuracy = 72.50\n"
          ],
          "name": "stdout"
        }
      ]
    },
    {
      "cell_type": "markdown",
      "metadata": {
        "id": "fzfvToRtflV1"
      },
      "source": [
        "It seems to be very accurate with the random seed that we set, but let's see how it predicts something completely new and unclassified!\n",
        "\n",
        "Come up with a brand new sample of the format `[age, weight, height]` to test it with.\n",
        "\n",
        "#### Replace the `<addNumber>`'s below with any numbers you want."
      ]
    },
    {
      "cell_type": "code",
      "metadata": {
        "trusted": true,
        "id": "FKDkScbDflV5"
      },
      "source": [
        "###\n",
        "# REPLACE THE <addNumber> BELOW WITH A WHATEVER NUMBERS YOU WANT, e.g. [9, 7, 7]\n",
        "###\n",
        "# [age, weight, height]\n",
        "new_sample = [8, 6, 3]\n",
        "###"
      ],
      "execution_count": null,
      "outputs": []
    },
    {
      "cell_type": "markdown",
      "metadata": {
        "id": "DGsRZDjnflV-"
      },
      "source": [
        "Let's have a look at where our new sample sits in comparison to our dataset.\n",
        "\n",
        "#### Replace the `<addNewSample>`'s below with `new_sample`"
      ]
    },
    {
      "cell_type": "code",
      "metadata": {
        "trusted": true,
        "id": "iuwc6Wo5flWA",
        "outputId": "4829f49a-0b59-4a60-828f-ee25f3cf7b7d",
        "colab": {
          "base_uri": "https://localhost:8080/",
          "height": 697
        }
      },
      "source": [
        "# Plots out the age-weight relationship\n",
        "\n",
        "###\n",
        "# REPLACE THE <addNewSample> BELOW WITH new_sample\n",
        "###\n",
        "graph.plot(new_sample[0], new_sample[1], 'ko', marker='x')\n",
        "###\n",
        "\n",
        "graph.scatter(train_X[:,0], train_X[:,1], c = labels[:160])\n",
        "graph.title('samples by age and weight')\n",
        "graph.xlabel('age')\n",
        "graph.ylabel('weight')\n",
        "graph.show()\n",
        "\n",
        "# Plot out the age-height relationship\n",
        "\n",
        "###\n",
        "# REPLACE THE <addNewSample> BELOW WITH new_sample\n",
        "###\n",
        "graph.plot(new_sample[0], new_sample[2], 'ko', marker='x')\n",
        "###\n",
        "\n",
        "graph.scatter(train_X[:,0], train_X[:,2], c = labels[:160])\n",
        "graph.title('samples by age and height')\n",
        "graph.xlabel('age')\n",
        "graph.ylabel('height')\n",
        "graph.show()"
      ],
      "execution_count": null,
      "outputs": [
        {
          "output_type": "display_data",
          "data": {
            "image/png": "[encoded data removed]",
            "text/plain": [
              "<Figure size 1080x360 with 1 Axes>"
            ]
          },
          "metadata": {
            "tags": [],
            "needs_background": "light"
          }
        },
        {
          "output_type": "display_data",
          "data": {
            "image/png": "[encoded data removed]",
            "text/plain": [
              "<Figure size 1080x360 with 1 Axes>"
            ]
          },
          "metadata": {
            "tags": [],
            "needs_background": "light"
          }
        }
      ]
    },
    {
      "cell_type": "markdown",
      "metadata": {
        "id": "Qp4kejCQflWI"
      },
      "source": [
        "Looks alright? Now let's see what breed of dog the model says it is!\n",
        "\n",
        "#### Replace `<addNewSample>` with `new_sample`"
      ]
    },
    {
      "cell_type": "code",
      "metadata": {
        "trusted": true,
        "id": "2mFRyotBflWK",
        "outputId": "45ebb2a3-171b-484e-b1c4-0d037d9e48bf",
        "colab": {
          "base_uri": "https://localhost:8080/"
        }
      },
      "source": [
        "###\n",
        "# REPLACE THE <addNewSample> BELOW WITH new_sample\n",
        "###\n",
        "predicted = model.predict(np.array([new_sample]))\n",
        "print('Breed prediction for %s:' %(new_sample))\n",
        "###\n",
        "\n",
        "print(np.around(predicted[0],2))\n",
        "print('Breed %s, with %i%% certainty.' %(np.argmax(predicted), np.round(100 * predicted[:, np.argmax(predicted)][0])))"
      ],
      "execution_count": null,
      "outputs": [
        {
          "output_type": "stream",
          "text": [
            "Breed prediction for [8, 6, 3]:\n",
            "[0.31 0.65 0.04]\n",
            "Breed 1, with 65% certainty.\n"
          ],
          "name": "stdout"
        }
      ]
    },
    {
      "cell_type": "markdown",
      "metadata": {
        "id": "6tGcWLyDflWR"
      },
      "source": [
        "Breed `0` should be purple, breed `1` should be green, and breed `2` should be red."
      ]
    },
    {
      "cell_type": "markdown",
      "metadata": {
        "id": "IJFeTvlMflWT"
      },
      "source": [
        "Conclusion\n",
        "------\n",
        "\n",
        "We've built a simple neural network to help us predict dog breeds! In the next exercise we'll look into neural networks with a bit more depth, and at the factors that influence how well it learns.\n",
        "\n",
        "If you want to play around with this neural network and a new data set, just remember to set your input and output sizes correctly."
      ]
    }
  ]
}